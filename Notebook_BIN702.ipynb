{
 "cells": [
  {
   "cell_type": "code",
   "execution_count": 36,
   "metadata": {
    "id": "EwiAiBQJk_-4"
   },
   "outputs": [],
   "source": [
    "import numpy as np\n",
    "import matplotlib.pyplot as plt\n",
    "import seaborn as sns\n",
    "import time"
   ]
  },
  {
   "cell_type": "markdown",
   "metadata": {
    "id": "hezoyuSKwhRW"
   },
   "source": [
    "# **Identifie si la séquence est ADN, ARN, Protéines ou Autres.**"
   ]
  },
  {
   "cell_type": "code",
   "execution_count": 54,
   "metadata": {
    "id": "lpOLIQ5ik_--"
   },
   "outputs": [],
   "source": [
    "def check_sequence_type(sequence):\n",
    "    \"\"\"Identifie si la séquence est ADN, ARN, Protéines ou Autres.\"\"\"\n",
    "    dna_bases = set(\"ATCG\")\n",
    "    rna_bases = set(\"AUCG\")\n",
    "    protein_bases = set(\"ARNDCEQGHILKMFPSTWYV\")\n",
    "\n",
    "    sequence_set = set(sequence)\n",
    "\n",
    "    # Vérification stricte que tous les caractères sont de l'ADN\n",
    "    if sequence_set.issubset(dna_bases):\n",
    "        return \"ADN\"\n",
    "    # Vérification stricte que tous les caractères sont de l'ARN\n",
    "    elif sequence_set.issubset(rna_bases):\n",
    "        return \"ARN\"\n",
    "    # Vérification stricte que tous les caractères sont des acides aminés (protéines)\n",
    "    elif sequence_set.issubset(protein_bases):\n",
    "        return \"Protéine\"\n",
    "    # Si la séquence contient des caractères non valides pour ces types, elle est classée \"Autre\"\n",
    "    else:\n",
    "        return \"Autre\"\n",
    "\n",
    "def validate_fasta_format(file_path):\n",
    "    \"\"\"Vérifie si le fichier a un format FASTA correct.\"\"\"\n",
    "    with open(file_path, 'r') as file:\n",
    "        line_num = 0\n",
    "        for line in file:\n",
    "            line = line.strip()\n",
    "            line_num += 1\n",
    "            if line.startswith('>'):\n",
    "                continue  # Il s'agit d'une ligne de description\n",
    "            elif not all(char.isalpha() or char == '-' for char in line):\n",
    "                print(f\"Erreur : ligne {line_num} contient des caractères invalides.\")\n",
    "                return False\n",
    "    return True\n",
    "\n",
    "def check_mixed_sequence_types(sequence_groups):\n",
    "    \"\"\"Vérifie si plusieurs types de séquences sont présents dans le fichier.\"\"\"\n",
    "    # Compte le nombre de types de séquences non vides\n",
    "    non_empty_types = [t for t, seqs in sequence_groups.items() if len(seqs) > 0]\n",
    "    if len(non_empty_types) > 1:\n",
    "        # Si plus d'un type de séquence est présent, renvoyer une erreur\n",
    "        print(f\"Note : Mélange des séquences de types différents : {', '.join(non_empty_types)}.\")\n",
    "        return False\n",
    "    return True\n",
    "\n",
    "def compare_sequences(seq1, seq2):\n",
    "    \"\"\"Compare deux séquences si elles sont du même type (ADN, ARN, Protéines, Autre).\"\"\"\n",
    "    valid_chars = set(\"ATCGUARNDCEQGHILKMFPSTWYV-\")\n",
    "    seq1_filtered = ''.join([char for char in seq1 if char in valid_chars])\n",
    "    seq2_filtered = ''.join([char for char in seq2 if char in valid_chars])\n",
    "\n",
    "    # Comparaison des séquences filtrées\n",
    "    matches = sum(1 for a, b in zip(seq1_filtered, seq2_filtered) if a == b)\n",
    "    total_length = max(len(seq1_filtered), len(seq2_filtered))\n",
    "    similarity_percentage = (matches / total_length) * 100 if total_length > 0 else 0\n",
    "\n",
    "    return similarity_percentage\n",
    "\n",
    "def read_sequences_from_file(file_path):\n",
    "    \"\"\"Lit un fichier, identifie le type des séquences, et les retourne dans des groupes par type.\"\"\"\n",
    "    if not validate_fasta_format(file_path):\n",
    "        print(\"Le fichier n'est pas au format FASTA correct.\")\n",
    "        return\n",
    "\n",
    "    sequences = []\n",
    "    current_sequence = ''\n",
    "\n",
    "    with open(file_path, 'r') as file:\n",
    "        for line in file:\n",
    "            line = line.strip()\n",
    "            if line.startswith('>'):\n",
    "                if current_sequence:\n",
    "                    sequences.append(current_sequence)  # Ajouter la séquence précédente\n",
    "                    current_sequence = ''\n",
    "            else:\n",
    "                current_sequence += line  # Continuer d'ajouter à la séquence courante\n",
    "\n",
    "        if current_sequence:\n",
    "            sequences.append(current_sequence)  # Ajouter la dernière séquence\n",
    "\n",
    "    # Organiser les séquences par type\n",
    "    sequence_types = {\"ADN\": [], \"ARN\": [], \"Protéine\": [], \"Autre\": []}\n",
    "    for i, seq in enumerate(sequences):\n",
    "        seq_type = check_sequence_type(seq)\n",
    "        sequence_types[seq_type].append(seq)\n",
    "\n",
    "    return sequence_types\n",
    "\n",
    "def compare_all_sequences(sequence_groups):\n",
    "    # Vérifie si plusieurs types de séquences sont présents\n",
    "    if not check_mixed_sequence_types(sequence_groups):\n",
    "        return"
   ]
  },
  {
   "cell_type": "markdown",
   "metadata": {},
   "source": [
    "### Fonction `check_sequence_type`\n",
    "Cette fonction identifie le type de la séquence en vérifiant si elle correspond à des ensembles spécifiques de caractères :\n",
    "- **ADN** : contient uniquement les bases `{A, T, C, G}`\n",
    "- **ARN** : contient les bases `{A, U, C, G}`\n",
    "- **Protéine** : contient les acides aminés `{A, R, N, D, C, E, Q, G, H, I, L, K, M, F, P, S, T, W, Y, V}`\n",
    "\n",
    "Elle utilise l'inclusion d'ensembles : la séquence est convertie en un ensemble (`sequence_set`) pour vérifier si tous ses caractères appartiennent à un des ensembles prédéfinis.\n",
    "\n",
    "---\n",
    "\n",
    "### Fonction `validate_fasta_format`\n",
    "Cette fonction assure que le fichier respecte le format FASTA :\n",
    "- Ignore les lignes de description (commençant par `>`)\n",
    "- Vérifie que chaque ligne ne contient que des lettres alphabétiques ou le caractère `-`\n",
    "\n",
    "Cela garantit que le fichier est correctement formaté avant l'analyse.\n",
    "\n",
    "---\n",
    "\n",
    "### Fonction `check_mixed_sequence_types`\n",
    "Cette fonction vérifie la cohérence des types de séquences en comptant les groupes de types non vides :\n",
    "- Si plusieurs types sont présents, elle renvoie une erreur, car seules des séquences du même type peuvent être comparées.\n",
    "\n",
    "---\n",
    "\n",
    "### Fonction `compare_sequences`\n",
    "Elle mesure la similarité entre deux séquences :\n",
    "- La similarité est calculée en comptant le nombre de correspondances positionnelles (`matches`) entre les deux séquences filtrées.\n",
    "- Le pourcentage de similarité est donné par :\n",
    "\n",
    "$$\n",
    "\\text{similarité} = \\frac{\\text{nombre de correspondances}}{\\text{longueur totale de la séquence}} \\times 100\n",
    "$$\n",
    "\n",
    "---\n",
    "\n",
    "### Fonction `read_sequences_from_file`\n",
    "Cette fonction lit le fichier et identifie les séquences par type :\n",
    "- Elle commence par vérifier le format FASTA.\n",
    "- Les séquences sont lues et ajoutées à une liste.\n",
    "- Chaque séquence est classée dans un dictionnaire par type (`ADN`, `ARN`, `Protéine`, `Autre`) selon son contenu.\n",
    "\n",
    "---\n",
    "\n",
    "### Fonction `compare_all_sequences`\n",
    "Cette fonction compare toutes les paires possibles de séquences d'un même type en utilisant `compare_sequences` :\n",
    "- Elle assure que chaque type est comparé séparément et affiche la similarité entre les paires de séquences.\n"
   ]
  },
  {
   "cell_type": "code",
   "execution_count": 55,
   "metadata": {
    "colab": {
     "base_uri": "https://localhost:8080/"
    },
    "id": "-XezC4d6k__C",
    "outputId": "7d7c9a7e-1a02-4002-96ad-7e011854a7c6"
   },
   "outputs": [
    {
     "name": "stdout",
     "output_type": "stream",
     "text": [
      "Séquences extraites du fichier: {'ADN': ['ATGCGTGGCTAA', 'ATCCGTAGCCTA', 'ATAGCCGTCCTAATTCG'], 'ARN': [], 'Protéine': [], 'Autre': ['ATGVFVHPPJ', 'ATGOUJJKNVCT']}\n",
      "Note : Mélange des séquences de types différents : ADN, Autre.\n"
     ]
    }
   ],
   "source": [
    "file_path = './sequences.txt'\n",
    "sequences_dict = read_sequences_from_file(file_path)\n",
    "\n",
    "print(\"Séquences extraites du fichier:\", sequences_dict)\n",
    "\n",
    "compare_all_sequences(sequences_dict)"
   ]
  },
  {
   "cell_type": "code",
   "execution_count": 57,
   "metadata": {},
   "outputs": [
    {
     "name": "stdout",
     "output_type": "stream",
     "text": [
      "\n",
      "Type ADN - Séquences :\n",
      "  - Séquence 0 : ATGCGTGGCTAA\n",
      "  - Séquence 1 : ATCCGTAGCCTA\n",
      "  - Séquence 2 : ATAGCCGTCCTAATTCG\n",
      "\n",
      "Type ARN - Aucune séquence trouvée.\n",
      "\n",
      "Type Protéine - Aucune séquence trouvée.\n",
      "\n",
      "Type Autre - Séquences :\n",
      "  - Séquence 3 : ATGVFVHPPJ\n",
      "  - Séquence 4 : ATGOUJJKNVCT\n",
      "\n",
      "Comparaison des paires uniques de séquences :\n",
      "Pourcentage de similarité entre les séquences 0 et 1 : 66.67%\n",
      "Pourcentage de similarité entre les séquences 0 et 2 : 29.41%\n",
      "Pourcentage de similarité entre les séquences 0 et 3 : 25.00%\n",
      "Pourcentage de similarité entre les séquences 0 et 4 : 25.00%\n",
      "Pourcentage de similarité entre les séquences 1 et 2 : 35.29%\n",
      "Pourcentage de similarité entre les séquences 1 et 3 : 16.67%\n",
      "Pourcentage de similarité entre les séquences 1 et 4 : 16.67%\n",
      "Pourcentage de similarité entre les séquences 2 et 3 : 11.76%\n",
      "Pourcentage de similarité entre les séquences 2 et 4 : 11.76%\n",
      "Pourcentage de similarité entre les séquences 3 et 4 : 33.33%\n"
     ]
    }
   ],
   "source": [
    "def compare_all(sequence_groups):\n",
    "    \"\"\"Compare toutes les séquences d'un même type et affiche les similarités entre toutes les paires uniques.\"\"\"\n",
    "    # Rassembler toutes les séquences dans une liste unique avec un identifiant global\n",
    "    all_sequences = []\n",
    "    sequence_id = 0  # Initialiser l'identifiant global\n",
    "    \n",
    "    for seq_type, seqs in sequence_groups.items():\n",
    "        if len(seqs) > 0:\n",
    "            print(f\"\\nType {seq_type} - Séquences :\")\n",
    "            for local_id, seq in enumerate(seqs):\n",
    "                print(f\"  - Séquence {sequence_id + local_id} : {seq}\")\n",
    "                all_sequences.append((sequence_id + local_id, seq))\n",
    "            sequence_id += len(seqs)  # Mettre à jour sequence_id pour le prochain type\n",
    "        else:\n",
    "            print(f\"\\nType {seq_type} - Aucune séquence trouvée.\")\n",
    "    \n",
    "    # Comparer chaque paire unique de séquences\n",
    "    print(\"\\nComparaison des paires uniques de séquences :\")\n",
    "    for i in range(len(all_sequences) - 1):\n",
    "        for j in range(i + 1, len(all_sequences)):\n",
    "            num1, seq1 = all_sequences[i]\n",
    "            num2, seq2 = all_sequences[j]\n",
    "\n",
    "            try:\n",
    "                similarity = compare_sequences(seq1, seq2)\n",
    "                if similarity is not None:\n",
    "                    print(f\"Pourcentage de similarité entre les séquences {num1} et {num2} : {similarity:.2f}%\")\n",
    "                else:\n",
    "                    print(f\"Erreur : Impossible de calculer la similarité entre les séquences {num1} et {num2}.\")\n",
    "            except Exception as e:\n",
    "                print(f\"Erreur lors de la comparaison des séquences {num1} et {num2} : {e}\")\n",
    "\n",
    "compare_all(sequences_dict)\n"
   ]
  },
  {
   "cell_type": "code",
   "execution_count": 58,
   "metadata": {
    "colab": {
     "base_uri": "https://localhost:8080/"
    },
    "id": "M2RoUaOqk__G",
    "outputId": "0b3ebbb9-8045-4503-880f-fa2644895079"
   },
   "outputs": [
    {
     "name": "stdout",
     "output_type": "stream",
     "text": [
      "['ATGCGTGGCTAA', 'ATCCGTAGCCTA', 'ATAGCCGTCCTAATTCG', 'ATGVFVHPPJ', 'ATGOUJJKNVCT']\n"
     ]
    }
   ],
   "source": [
    "# Combine all sequences into a single list\n",
    "sequences = [seq for seqs in sequences_dict.values() for seq in seqs]\n",
    "\n",
    "print(sequences)\n"
   ]
  },
  {
   "cell_type": "code",
   "execution_count": 59,
   "metadata": {
    "id": "ovSNrBhik__G"
   },
   "outputs": [],
   "source": [
    "# Fonction d'alignement pairwise (Needleman-Wunsch)\n",
    "def pairwise_alignment(seq1, seq2, match_score=1, mismatch_penalty=-1, gap_penalty=-2):\n",
    "    n, m = len(seq1), len(seq2)\n",
    "    matrix = np.zeros((n+1, m+1))\n",
    "\n",
    "    # Initialisation de la première ligne et colonne\n",
    "    for i in range(1, n+1):\n",
    "        matrix[i][0] = i * gap_penalty\n",
    "    for j in range(1, m+1):\n",
    "        matrix[0][j] = j * gap_penalty\n",
    "\n",
    "    # Remplir la matrice de score\n",
    "    for i in range(1, n+1):\n",
    "        for j in range(1, m+1):\n",
    "            match = matrix[i-1][j-1] + (match_score if seq1[i-1] == seq2[j-1] else mismatch_penalty)\n",
    "            delete = matrix[i-1][j] + gap_penalty\n",
    "            insert = matrix[i][j-1] + gap_penalty\n",
    "            matrix[i][j] = max(match, delete, insert)\n",
    "\n",
    "    # Backtracking pour obtenir l'alignement\n",
    "    align1, align2 = '', ''\n",
    "    i, j = n, m\n",
    "    while i > 0 and j > 0:\n",
    "        if seq1[i-1] == seq2[j-1] or matrix[i][j] == matrix[i-1][j-1] + match_score:\n",
    "            align1 = seq1[i-1] + align1\n",
    "            align2 = seq2[j-1] + align2\n",
    "            i -= 1\n",
    "            j -= 1\n",
    "        elif matrix[i][j] == matrix[i-1][j] + gap_penalty:\n",
    "            align1 = seq1[i-1] + align1\n",
    "            align2 = '-' + align2\n",
    "            i -= 1\n",
    "        else:\n",
    "            align1 = '-' + align1\n",
    "            align2 = seq2[j-1] + align2\n",
    "            j -= 1\n",
    "    while i > 0:\n",
    "        align1 = seq1[i-1] + align1\n",
    "        align2 = '-' + align2\n",
    "        i -= 1\n",
    "    while j > 0:\n",
    "        align1 = '-' + align1\n",
    "        align2 = seq2[j-1] + align2\n",
    "        j -= 1\n",
    "\n",
    "    return align1, align2"
   ]
  },
  {
   "cell_type": "markdown",
   "metadata": {
    "id": "ZmkcPm_Su_qY"
   },
   "source": [
    "### Fonction `pairwise_alignment` : Alignement pairwise (Needleman-Wunsch)\n",
    "La fonction `pairwise_alignment` réalise un alignement  entre deux séquences en utilisant l'algorithme de Needleman-Wunsch. Cet algorithme est basé sur la programmation dynamique et est couramment utilisé pour trouver le meilleur alignement  entre deux séquences de longueur similaire.\n",
    "\n",
    "#### Étapes et Explications\n",
    "\n",
    "1. **Initialisation des Variables et de la Matrice de Score :**\n",
    "   - `seq1` et `seq2` : Les deux séquences à aligner.\n",
    "   - `match_score`, `mismatch_penalty`, `gap_penalty` : Scores pour une correspondance, une incompatibilité, et une insertion d'espace.\n",
    "   - La matrice de score `matrix` est initialisée avec des zéros, et sa taille est `(n+1, m+1)`, où `n` et `m` sont les longueurs de `seq1` et `seq2`.\n",
    "   - La première ligne et colonne de la matrice sont remplies en appliquant le score de pénalité d'espace (`gap_penalty`) en fonction de la position. Cela permet de gérer les cas d'alignements ayant des gaps initiaux.\n",
    "\n",
    "2. **Remplissage de la Matrice de Score :**\n",
    "   - Pour chaque cellule `(i, j)` de la matrice, trois scores potentiels sont calculés :\n",
    "     - **Match/Mismatch :** Prend la valeur de la cellule diagonale précédente `(i-1, j-1)` et ajoute le score de correspondance si les caractères sont identiques ou la pénalité d'incompatibilité s'ils diffèrent.\n",
    "     - **Delete :** Prend la valeur de la cellule au-dessus `(i-1, j)` et ajoute la pénalité d'espace.\n",
    "     - **Insert :** Prend la valeur de la cellule à gauche `(i, j-1)` et ajoute la pénalité d'espace.\n",
    "   - La cellule `(i, j)` prend la valeur maximale parmi les trois scores calculés, assurant ainsi la meilleure option d'alignement jusqu'à cette position.\n",
    "\n",
    "3. **Backtracking pour Obtenir l'Alignement Optimal :**\n",
    "   - Le parcours commence en bas à droite de la matrice et suit le chemin qui a conduit au meilleur score.\n",
    "   - Si les caractères des séquences sont identiques ou si le score actuel est obtenu à partir d'une diagonale avec un `match_score`, on aligne les deux caractères.\n",
    "   - Si le score provient de la cellule supérieure, cela indique une insertion de gap dans `seq2`.\n",
    "   - Si le score provient de la cellule de gauche, cela signifie une insertion de gap dans `seq1`.\n",
    "\n",
    "4. **Alignement Final avec Gaps :**\n",
    "   - Lorsque le bord de la matrice est atteint, des gaps sont ajoutés si une séquence n'est pas complètement alignée.\n",
    "\n",
    "#### Formule et Mathématiques\n",
    "Le score de chaque cellule `(i, j)` est donné par :\n",
    "$$\n",
    "\\text{matrix}[i][j] = \\max \\begin{cases} \n",
    "      \\text{matrix}[i-1][j-1] + \\text{match\\_score} & \\text{si } \\text{seq1}[i-1] = \\text{seq2}[j-1] \\\\\n",
    "      \\text{matrix}[i-1][j-1] + \\text{mismatch\\_penalty} & \\text{si } \\text{seq1}[i-1] \\neq \\text{seq2}[j-1] \\\\\n",
    "      \\text{matrix}[i-1][j] + \\text{gap\\_penalty} & \\text{(delete)} \\\\\n",
    "      \\text{matrix}[i][j-1] + \\text{gap\\_penalty} & \\text{(insert)}\n",
    "   \\end{cases}\n",
    "$$\n",
    "\n",
    "Cet algorithme garantit un alignement optimal entre les deux séquences en minimisant les pénalités d'incompatibilités et de gaps.\n"
   ]
  },
  {
   "cell_type": "code",
   "execution_count": 60,
   "metadata": {
    "id": "HwRM69T9k__H"
   },
   "outputs": [],
   "source": [
    "def calculate_distance_matrix(sequences):\n",
    "    n = len(sequences)\n",
    "    distance_matrix = [[0] * n for _ in range(n)]\n",
    "    for i in range(n):\n",
    "        print(f\"Accès à la séquence {i}: {sequences[i]}\")  # Ajoutez cette ligne\n",
    "        for j in range(i+1, n):\n",
    "            align1, align2 = pairwise_alignment(sequences[i], sequences[j])\n",
    "            # Calcul de la distance basé sur les différences\n",
    "            matches = sum([1 for a, b in zip(align1, align2) if a == b])\n",
    "            distance = 1 - (matches / max(len(align1), len(align2)))\n",
    "            distance_matrix[i][j] = distance\n",
    "    return distance_matrix"
   ]
  },
  {
   "cell_type": "markdown",
   "metadata": {},
   "source": [
    "### Fonction `calculate_distance_matrix`\n",
    "La fonction `calculate_distance_matrix` calcule une matrice de distance pour un ensemble de séquences, en utilisant l'alignement pairwise (Needleman-Wunsch) pour chaque paire de séquences. La distance entre deux séquences est calculée en fonction du nombre de différences après alignement.\n",
    "\n",
    "#### Étapes et Explications\n",
    "\n",
    "1. **Initialisation de la Matrice de Distance :**\n",
    "   - La variable `distance_matrix` est une matrice carrée de taille `n x n`, où `n` est le nombre de séquences.\n",
    "   - Chaque cellule `(i, j)` dans la matrice contiendra la distance entre les séquences `i` et `j`.\n",
    "   - La diagonale de la matrice reste à zéro car la distance entre une séquence et elle-même est nulle.\n",
    "\n",
    "2. **Calcul de l'Alignement et de la Distance :**\n",
    "   - La fonction parcourt chaque paire unique de séquences `i` et `j`, en appelant `pairwise_alignment` pour obtenir l'alignement optimal entre ces séquences.\n",
    "   - Une fois les alignements `align1` et `align2` obtenus, elle compte les positions où les caractères sont identiques (c’est-à-dire le nombre de \"matches\").\n",
    "   - La distance est calculée comme suit :\n",
    "     $$\n",
    "     \\text{distance} = 1 - \\frac{\\text{nombre de correspondances}}{\\text{longueur maximale de l'alignement}}\n",
    "     $$\n",
    "     où `nombre de correspondances` est le nombre de positions identiques entre les deux séquences alignées, et `longueur maximale de l'alignement` est la longueur de la séquence la plus longue dans l'alignement. Cela donne une mesure de dissimilarité entre 0 et 1 :\n",
    "     - Une distance de 0 signifie que les séquences sont identiques.\n",
    "     - Une distance proche de 1 indique une grande dissimilarité entre les séquences.\n",
    "\n",
    "3. **Remplissage de la Matrice :**\n",
    "   - La distance calculée pour chaque paire `(i, j)` est stockée dans `distance_matrix[i][j]`.\n",
    "   - Seules les valeurs au-dessus de la diagonale principale sont calculées, car la matrice est symétrique : la distance entre `i` et `j` est la même que celle entre `j` et `i`.\n",
    "\n",
    "#### Exemple d'Utilisation et Interprétation\n",
    "La matrice de distance obtenue peut être utilisée pour des analyses de similarité ou pour construire des arbres phylogénétiques dans des études de génétique, où des séquences proches auront des distances faibles et des séquences différentes auront des distances élevées.\n"
   ]
  },
  {
   "cell_type": "code",
   "execution_count": 61,
   "metadata": {
    "id": "hNnic6pZk__I"
   },
   "outputs": [],
   "source": [
    "# Construction d'un arbre guide simplifié avec UPGMA\n",
    "def upgma_tree(distance_matrix, sequences):\n",
    "    clusters = {i: [i] for i in range(len(sequences))}\n",
    "    while len(clusters) > 1:\n",
    "        # Trouver les deux clusters les plus proches\n",
    "        min_dist = float('inf')\n",
    "        pair_to_merge = None\n",
    "        for i in clusters:\n",
    "            for j in clusters:\n",
    "                if i != j and distance_matrix[i][j] < min_dist:\n",
    "                    min_dist = distance_matrix[i][j]\n",
    "                    pair_to_merge = (i, j)\n",
    "\n",
    "        # Fusionner les deux clusters les plus proches\n",
    "        i, j = pair_to_merge\n",
    "        new_cluster = clusters[i] + clusters[j]\n",
    "        new_index = min(i, j)\n",
    "        del clusters[i]\n",
    "        del clusters[j]\n",
    "\n",
    "        # Mettre à jour la matrice de distances pour le nouveau cluster\n",
    "        for k in clusters:\n",
    "            new_distance = (distance_matrix[new_index][k] + distance_matrix[new_index][k]) / 2\n",
    "            distance_matrix[new_index][k] = new_distance\n",
    "            distance_matrix[k][new_index] = new_distance\n",
    "\n",
    "        clusters[new_index] = new_cluster\n",
    "\n",
    "    return list(clusters.values())[0]  # Retourner l'ordre de fusion des clusters"
   ]
  },
  {
   "cell_type": "markdown",
   "metadata": {},
   "source": [
    "### Fonction `upgma_tree` : Construction d'un Arbre Guide Simplifié avec UPGMA\n",
    "La fonction `upgma_tree` utilise l'algorithme UPGMA pour construire un arbre guide simplifié basé sur une matrice de distance. UPGMA est une méthode hiérarchique d'agrégation qui crée un arbre phylogénétique en fusionnant itérativement les clusters les plus proches, en prenant la moyenne des distances.\n",
    "\n",
    "#### Étapes et Explications\n",
    "\n",
    "1. **Initialisation des Clusters :**\n",
    "   - Chaque séquence est initialement considérée comme un cluster unique.\n",
    "   - Le dictionnaire `clusters` mappe chaque index de séquence à un cluster contenant uniquement cette séquence.\n",
    "\n",
    "2. **Fusion itérative des Clusters les plus Proches :**\n",
    "   - Tant qu'il y a plus d'un cluster, la fonction continue à fusionner les deux clusters les plus proches.\n",
    "   - Elle parcourt la matrice de distance pour trouver la paire `(i, j)` avec la plus petite distance.\n",
    "   - **Sélection de la paire minimale :** La distance minimale `min_dist` est mise à jour pour chaque paire de clusters distincts `(i, j)` trouvée dans `clusters`.\n",
    "\n",
    "3. **Mise à Jour des Clusters et Fusion :**\n",
    "   - Après identification des deux clusters à fusionner, la fonction :\n",
    "     - Combine les clusters `i` et `j` en un nouveau cluster `new_cluster`.\n",
    "     - Assigne au nouveau cluster l'index le plus bas (`min(i, j)`) pour simplifier l'indexation.\n",
    "     - Supprime les clusters `i` et `j` d'origine dans `clusters`.\n",
    "\n",
    "4. **Mise à Jour de la Matrice de Distance :**\n",
    "   - Pour chaque autre cluster `k`, la fonction met à jour la distance entre le nouveau cluster fusionné et `k`.\n",
    "   - **Calcul de la Nouvelle Distance :** La distance entre le nouveau cluster et chaque autre cluster `k` est la moyenne des distances entre `k` et les clusters fusionnés `i` et `j` :\n",
    "     $$\n",
    "     \\text{new\\_distance} = \\frac{\\text{distance\\_matrix[i][k] + distance\\_matrix[j][k]}}{2}\n",
    "     $$\n",
    "\n",
    "5. **Résultat :**\n",
    "   - L'arbre est représenté par la liste des fusions successives de clusters.\n",
    "   - La fonction retourne la liste des clusters finaux, qui représente l'ordre de fusion des séquences dans l'arbre.\n",
    "\n",
    "#### Interprétation et Utilisation\n",
    "L'arbre guide généré peut être utilisé pour des analyses phylogénétiques afin de déterminer les relations de similarité entre les séquences. UPGMA est basé sur l'hypothèse de taux d'évolution constants (hypothèse d'horloge moléculaire), ce qui signifie qu'il est adapté aux séquences avec des taux d'évolution similaires.\n"
   ]
  },
  {
   "cell_type": "code",
   "execution_count": 62,
   "metadata": {
    "id": "E2AVwYk5k__J"
   },
   "outputs": [],
   "source": [
    "# Alignement multiple progressif basé sur l'arbre guide\n",
    "def clustalw_with_guide_tree(sequences):\n",
    "    distance_matrix = calculate_distance_matrix(sequences)\n",
    "    guide_tree = upgma_tree(distance_matrix, sequences)\n",
    "\n",
    "    # Aligner les séquences en fonction de l'arbre guide\n",
    "    aligned_sequences = [sequences[guide_tree[0]]]\n",
    "    for index in guide_tree[1:]:\n",
    "        next_sequence = sequences[index]\n",
    "        align1, align2 = pairwise_alignment(aligned_sequences[-1], next_sequence)\n",
    "        aligned_sequences[-1] = align1\n",
    "        aligned_sequences.append(align2)\n",
    "\n",
    "    return aligned_sequences"
   ]
  },
  {
   "cell_type": "markdown",
   "metadata": {},
   "source": [
    "### Fonction `clustalw_with_guide_tree` : Alignement Multiple Progressif Basé sur l'Arbre Guide\n",
    "La fonction `clustalw_with_guide_tree` réalise un alignement multiple progressif en utilisant un arbre guide généré par la méthode UPGMA. Cet alignement est basé sur l'algorithme ClustalW, qui aligne séquentiellement les séquences en fonction de leur similarité.\n",
    "\n",
    "#### Étapes et Explications\n",
    "\n",
    "1. **Calcul de la Matrice de Distance :**\n",
    "   - La fonction commence par appeler `calculate_distance_matrix` pour obtenir une matrice de distance entre toutes les séquences. Cette matrice est ensuite utilisée pour construire un arbre guide.\n",
    "\n",
    "2. **Construction de l'Arbre Guide :**\n",
    "   - En utilisant la fonction `upgma_tree`, un arbre guide est construit. Cet arbre guide détermine l'ordre dans lequel les séquences seront alignées.\n",
    "   - Les séquences les plus proches dans l'arbre (celles ayant la plus petite distance) seront alignées en premier, en suivant l'ordre hiérarchique défini par l'arbre.\n",
    "\n",
    "3. **Alignement Progressif des Séquences :**\n",
    "   - L'alignement débute avec la première séquence du guide (`guide_tree[0]`).\n",
    "   - Pour chaque séquence dans `guide_tree`, la fonction réalise un alignement pairwise entre l'alignement courant (`aligned_sequences[-1]`) et la séquence suivante (`next_sequence`).\n",
    "   - Les alignements obtenus (`align1`, `align2`) sont ajoutés à `aligned_sequences`, qui stocke l'alignement progressif des séquences.\n",
    "\n",
    "4. **Retour de l'Alignement Multiple :**\n",
    "   - Une fois toutes les séquences alignées selon l'ordre de l'arbre guide, la fonction retourne `aligned_sequences`, qui contient les séquences alignées.\n",
    "\n",
    "#### Interprétation\n",
    "L'alignement multiple progressif suit une approche hiérarchique, alignant d'abord les séquences les plus proches, puis ajoutant progressivement les séquences restantes en fonction de leur distance phylogénétique. Cela permet d'obtenir un alignement cohérent en minimisant les erreurs d'alignement introduites par les séquences moins similaires.\n",
    "\n",
    "Cet alignement multiple est particulièrement utile dans des applications telles que l'analyse phylogénétique, la détection de motifs conservés, et les études d'évolution moléculaire.\n"
   ]
  },
  {
   "cell_type": "code",
   "execution_count": 63,
   "metadata": {
    "colab": {
     "base_uri": "https://localhost:8080/"
    },
    "id": "gzhIlFEPk__K",
    "outputId": "b80d92fb-75a0-42ed-faaf-61c9890f7c5f"
   },
   "outputs": [
    {
     "name": "stdout",
     "output_type": "stream",
     "text": [
      "Accès à la séquence 0: ATGCGTGGCTAA\n",
      "Accès à la séquence 1: ATCCGTAGCCTA\n",
      "Accès à la séquence 2: ATAGCCGTCCTAATTCG\n",
      "Accès à la séquence 3: ATGVFVHPPJ\n",
      "Accès à la séquence 4: ATGOUJJKNVCT\n",
      "Alignement multiple avec ClustalW (arbre guide) :\n",
      "ATG-O-U-J-J-K-N-VCT-\n",
      "-ATC--C-G-T--A-G-C--C-TA\n",
      "--ATG------C---G-T-G--G--CT-A-A\n",
      "-----ATGV---F---V---H---P---P---J-------------\n",
      "-A-T--AG-C-C-G-T-C-C-T-A-A-T-T-C-G------------\n"
     ]
    }
   ],
   "source": [
    "aligned_clustalw = clustalw_with_guide_tree(sequences)\n",
    "\n",
    "print(\"Alignement multiple avec ClustalW (arbre guide) :\")\n",
    "for seq in aligned_clustalw:\n",
    "    print(seq)"
   ]
  },
  {
   "cell_type": "markdown",
   "metadata": {},
   "source": [
    "### Fonction `muscle_initial_alignment` : Alignement Initial Séquentiel\n",
    "La fonction `muscle_initial_alignment` effectue un alignement initial des séquences en utilisant un alignement pairwise (ici basé sur l'algorithme Needleman-Wunsch) de manière séquentielle, en ajoutant chaque nouvelle séquence à l'alignement existant.\n",
    "\n",
    "#### Étapes et Explications\n",
    "\n",
    "1. **Initialisation de l'Alignement :**\n",
    "   - La fonction commence par ajouter la première séquence de `sequences` dans `aligned_sequences`, une liste qui stockera les alignements progressifs.\n",
    "   - Cette première séquence sert de base pour les alignements successifs.\n",
    "\n",
    "2. **Alignement Séquentiel :**\n",
    "   - Pour chaque séquence suivante (`next_sequence`), la fonction utilise la séquence déjà alignée (`current_alignment`, dernier élément de `aligned_sequences`) et applique un alignement pairwise.\n",
    "   - La fonction `pairwise_alignment` aligne `current_alignment` avec `next_sequence`, renvoyant deux alignements (`align1` et `align2`) :\n",
    "     - `align1` devient le nouvel alignement pour la séquence courante dans `aligned_sequences`.\n",
    "     - `align2` est ajouté comme alignement de la séquence suivante.\n",
    "\n",
    "3. **Retour de l'Alignement :**\n",
    "   - Une fois toutes les séquences alignées séquentiellement, la fonction retourne `aligned_sequences`, contenant toutes les séquences alignées par rapport à la première séquence.\n",
    "\n",
    "#### Interprétation et Usage\n",
    "Cette étape d'alignement initial est couramment utilisée comme première phase dans des algorithmes d'alignement multiple plus complexes, tels que MUSCLE dans notre cas, où l'alignement progressif est affiné dans les étapes suivantes.\n",
    "\n",
    "L'alignement séquentiel est particulièrement utile pour obtenir un alignement rapide de plusieurs séquences, bien qu'il soit sensible à l'ordre des séquences. Cette méthode permet d'identifier des similarités de base entre les séquences, mais pourrait être moins optimale que les approches d'alignement multiple basées sur des arbres guides pour des alignements finaux.\n"
   ]
  },
  {
   "cell_type": "code",
   "execution_count": 64,
   "metadata": {
    "id": "RPyY6NGnk__L"
   },
   "outputs": [],
   "source": [
    "# Fonction d'alignement initial (déjà fait avec Needleman-Wunsch)\n",
    "def muscle_initial_alignment(sequences):\n",
    "    aligned_sequences = [sequences[0]]\n",
    "    for i in range(1, len(sequences)):\n",
    "        current_alignment = aligned_sequences[-1]\n",
    "        next_sequence = sequences[i]\n",
    "        align1, align2 = pairwise_alignment(current_alignment, next_sequence)\n",
    "        aligned_sequences[-1] = align1\n",
    "        aligned_sequences.append(align2)\n",
    "    return aligned_sequences"
   ]
  },
  {
   "cell_type": "code",
   "execution_count": 65,
   "metadata": {
    "id": "aQFgz0d8k__L"
   },
   "outputs": [],
   "source": [
    "# Fonction pour affiner l'alignement\n",
    "def refine_alignment(sequences):\n",
    "    for i in range(1, len(sequences)):\n",
    "        align1, align2 = pairwise_alignment(sequences[i-1], sequences[i])\n",
    "        sequences[i-1], sequences[i] = align1, align2\n",
    "    return sequences\n",
    "\n",
    "# MUSCLE complet avec affinage itératif\n",
    "def muscle_with_iterations(sequences, iterations=3):\n",
    "    aligned_sequences = muscle_initial_alignment(sequences)\n",
    "    for _ in range(iterations):\n",
    "        aligned_sequences = refine_alignment(aligned_sequences)\n",
    "    return aligned_sequences"
   ]
  },
  {
   "cell_type": "markdown",
   "metadata": {},
   "source": [
    "### Fonction `refine_alignment` : Affinement de l'Alignement\n",
    "La fonction `refine_alignment` affine l'alignement des séquences en alignant chaque paire de séquences adjacentes. Elle permet d'améliorer progressivement l'alignement en ajustant les décalages et les correspondances entre les séquences.\n",
    "\n",
    "#### Étapes\n",
    "1. **Alignement des Paires Adjacent :**\n",
    "   - Pour chaque paire de séquences adjacentes `(i-1, i)`, la fonction utilise `pairwise_alignment` pour recalculer l'alignement, ce qui permet de réduire les écarts et d'optimiser les correspondances.\n",
    "   - Les séquences `align1` et `align2`, issues de l'alignement entre `sequences[i-1]` et `sequences[i]`, remplacent les séquences d'origine dans `sequences`.\n",
    "   \n",
    "2. **Retour :**\n",
    "   - Une fois toutes les paires affinées, la fonction retourne la liste `sequences` avec les séquences alignées et affinées.\n",
    "\n",
    "---\n",
    "\n",
    "### Fonction `muscle_with_iterations` : Alignement Multiple Progressif avec Affinage Itératif\n",
    "La fonction `muscle_with_iterations` réalise un alignement multiple de type MUSCLE, en utilisant une approche d'alignement initial suivie d'un affinage itératif.\n",
    "\n",
    "#### Étapes\n",
    "\n",
    "1. **Alignement Initial :**\n",
    "   - La fonction commence par un alignement initial des séquences en appelant `muscle_initial_alignment`. Cela fournit une base d'alignement pour l'affinage ultérieur.\n",
    "\n",
    "2. **Affinage Itératif :**\n",
    "   - Le paramètre `iterations` définit le nombre d'itérations pour l'affinage. La fonction appelle `refine_alignment` à chaque itération pour ajuster l'alignement des paires de séquences adjacentes.\n",
    "   - L'affinage itératif permet d'améliorer la précision de l'alignement en réduisant les erreurs d'alignement introduites lors des étapes initiales.\n",
    "\n",
    "3. **Retour de l'Alignement Final :**\n",
    "   - Après le nombre d'itérations spécifié, la fonction retourne `aligned_sequences`, qui contient les séquences alignées et optimisées.\n",
    "\n",
    "#### Interprétation et Usage\n",
    "L'algorithme MUSCLE (Multiple Sequence Comparison by Log-Expectation) suit ce processus d'affinage itératif pour obtenir un alignement multiple de haute qualité. L'affinage itératif est particulièrement utile pour des analyses génomiques, car il améliore progressivement l'alignement pour minimiser les erreurs et optimiser les correspondances.\n",
    "\n",
    "Cet alignement itératif rend l'algorithme moins sensible aux erreurs de l'alignement initial, garantissant un alignement final plus précis et robuste pour les séquences biologiques.\n"
   ]
  },
  {
   "cell_type": "code",
   "execution_count": 66,
   "metadata": {
    "colab": {
     "base_uri": "https://localhost:8080/"
    },
    "id": "Y4mwoYkWk__M",
    "outputId": "c4b0df4e-1051-43cd-90cc-728777c48b02"
   },
   "outputs": [
    {
     "name": "stdout",
     "output_type": "stream",
     "text": [
      "Alignement multiple avec MUSCLE (affinage itératif) :\n",
      "--ATG----C--G--T--G-----G----C-------T----A--------------------------------A----\n",
      "--AT---------------------------C-C------G---T------A--------------G--C-C------------TA-------------\n",
      "-------A-T-A-----G----C----C-----------------------G------------T-----C----------C-----T----A-----A------T---T---C-G\n",
      "------------AT------GV-------------------F----V--H--P----P---J-----------------------------------------------------------------\n",
      "----------------A-T--GO----U----J--------------------------------J---K----N----V----C----T-------------------------------------\n"
     ]
    }
   ],
   "source": [
    "aligned_muscle = muscle_with_iterations(sequences)\n",
    "print(\"Alignement multiple avec MUSCLE (affinage itératif) :\")\n",
    "for seq in aligned_muscle:\n",
    "    print(seq)"
   ]
  },
  {
   "cell_type": "markdown",
   "metadata": {
    "id": "dvaLuSLJw1aa"
   },
   "source": [
    "# **Visualisation**"
   ]
  },
  {
   "cell_type": "markdown",
   "metadata": {
    "id": "xkOF7-h6k__M"
   },
   "source": [
    "1. Visualisation de l'alignement multiple avec des gaps :\n",
    "Représenter graphiquement les alignements avec des gaps permet de mieux visualiser les correspondances entre les séquences.\n",
    "Tracer des graphiques où chaque séquence est alignée sur un axe horizontal, en représentant les gaps par des traits ou des espaces vides."
   ]
  },
  {
   "cell_type": "code",
   "execution_count": 67,
   "metadata": {
    "id": "YZZrdOQ2k__Q"
   },
   "outputs": [],
   "source": [
    "def plot_alignment(aligned_sequences, title=\"Alignement multiple\", font_size=12):\n",
    "    fig, ax = plt.subplots(figsize=(10, len(aligned_sequences) * 0.8))\n",
    "\n",
    "    # Choix de couleurs pour rendre les alignements plus lisibles\n",
    "    colors = {'A': 'red', 'T': 'blue', 'G': 'green', 'C': 'purple', '-': 'black'}\n",
    "\n",
    "    for i, seq in enumerate(aligned_sequences):\n",
    "        for j, char in enumerate(seq):\n",
    "            ax.text(j, -i, char, fontsize=font_size, fontfamily='monospace',\n",
    "                    fontweight='bold', color=colors.get(char, 'black'))  # Coloration par base\n",
    "\n",
    "    ax.set_xlim(0, len(aligned_sequences[0]))\n",
    "    ax.set_ylim(-len(aligned_sequences), 1)\n",
    "    ax.axis('off')\n",
    "\n",
    "    plt.title(title, fontsize=16)\n",
    "    plt.show()"
   ]
  },
  {
   "cell_type": "code",
   "execution_count": 68,
   "metadata": {
    "colab": {
     "base_uri": "https://localhost:8080/",
     "height": 307
    },
    "id": "LnPSKbu4k__R",
    "outputId": "0465c648-7988-41c1-d3fc-85ef5e285c31"
   },
   "outputs": [
    {
     "data": {
      "image/png": "[encoded data removed]",
      "text/plain": [
       "<Figure size 1000x400 with 1 Axes>"
      ]
     },
     "metadata": {},
     "output_type": "display_data"
    }
   ],
   "source": [
    "# Affichage de l'alignement ClustalW\n",
    "plot_alignment(aligned_clustalw)"
   ]
  },
  {
   "cell_type": "code",
   "execution_count": 69,
   "metadata": {
    "colab": {
     "base_uri": "https://localhost:8080/",
     "height": 307
    },
    "id": "U-pdRWYYk__S",
    "outputId": "c7f55c5d-2800-4a39-965e-0ac393063c2a"
   },
   "outputs": [
    {
     "data": {
      "image/png": "[encoded data removed]",
      "text/plain": [
       "<Figure size 1000x400 with 1 Axes>"
      ]
     },
     "metadata": {},
     "output_type": "display_data"
    }
   ],
   "source": [
    "# Affichage de l'alignement MUSCLE\n",
    "plot_alignment(aligned_muscle)"
   ]
  },
  {
   "cell_type": "markdown",
   "metadata": {
    "id": "0bi-_nC1k__T"
   },
   "source": [
    "2. Heatmap de la matrice de distances :\n",
    "Visualiser la matrice de distances entre les séquences avec une heatmap permet de voir quelles séquences sont les plus similaires ou divergentes."
   ]
  },
  {
   "cell_type": "code",
   "execution_count": 74,
   "metadata": {
    "id": "5vcwpUF4k__T"
   },
   "outputs": [],
   "source": [
    "def plot_distance_matrix(distance_matrix):\n",
    "    num_sequences = len(distance_matrix)\n",
    "    labels = [f\"Sequence {i}\" for i in range(num_sequences)]  \n",
    "\n",
    "    plt.figure(figsize=(10, 8))  \n",
    "    sns.heatmap(distance_matrix, annot=True, cmap='Blues', linewidths=0.5, square=True,\n",
    "                xticklabels=labels, yticklabels=labels)  \n",
    "    plt.title(\"Matrice de distance entre les séquences\", fontsize=16)\n",
    "    plt.show()"
   ]
  },
  {
   "cell_type": "code",
   "execution_count": 75,
   "metadata": {
    "colab": {
     "base_uri": "https://localhost:8080/",
     "height": 771
    },
    "id": "2jYVnQ0rk__T",
    "outputId": "f0d7731d-0e4f-47c3-e936-80c843568dfb"
   },
   "outputs": [
    {
     "name": "stdout",
     "output_type": "stream",
     "text": [
      "Accès à la séquence 0: ATGCGTGGCTAA\n",
      "Accès à la séquence 1: ATCCGTAGCCTA\n",
      "Accès à la séquence 2: ATAGCCGTCCTAATTCG\n",
      "Accès à la séquence 3: ATGVFVHPPJ\n",
      "Accès à la séquence 4: ATGOUJJKNVCT\n"
     ]
    },
    {
     "data": {
      "image/png": "[encoded data removed]",
      "text/plain": [
       "<Figure size 1000x800 with 2 Axes>"
      ]
     },
     "metadata": {},
     "output_type": "display_data"
    }
   ],
   "source": [
    "# Affichage de la heatmap pour la matrice de distances\n",
    "distance_matrix = calculate_distance_matrix(sequences)\n",
    "plot_distance_matrix(distance_matrix)"
   ]
  },
  {
   "cell_type": "markdown",
   "metadata": {},
   "source": [
    "### Interprétation des Relations entre Séquences à Travers la Carte Thermique de Distance\n",
    "\n",
    "1. **Identification des Relations entre Séquences :**\n",
    "   - La carte thermique fournit une visualisation intuitive pour évaluer les relations entre les séquences en fonction de leurs distances. Les valeurs dans chaque cellule représentent la distance (ou dissimilarité) entre chaque paire de séquences, où des valeurs faibles indiquent une grande similarité et des valeurs élevées signalent une forte dissimilarité.\n",
    "   - **Interprétation des Couleurs :**\n",
    "     - La carte utilise une échelle de couleur allant des teintes plus claires aux teintes plus foncées dans la palette `Blues`. \n",
    "     - **Teintes Claires (Bleu Clair)** : Les valeurs proches de 0, représentées par des teintes de bleu très clair ou presque blanc, indiquent que les séquences sont très similaires, avec peu de différences entre elles. Ces séquences sont probablement proches en termes de structure ou de fonction, et elles peuvent partager des motifs conservés.\n",
    "     - **Teintes Moyennes (Bleu)** : Les valeurs intermédiaires, représentées par des bleus moyens, montrent des séquences qui ont des différences notables, mais pas extrêmes. Ces séquences peuvent appartenir à des groupes apparentés, partageant des traits communs avec quelques variations.\n",
    "     - **Teintes Foncées (Bleu Foncé)** : Les valeurs élevées, indiquées par des teintes de bleu foncé, révèlent des séquences très différentes. Ces paires de séquences ont peu de similarité et pourraient avoir divergé significativement dans leur évolution ou être associées à des fonctions distinctes.\n",
    "\n",
    "2. **Points de Similarité et Clusters :**\n",
    "   - **Détection de Clusters** : Les zones de bleu clair regroupées en diagonale ou dans des sous-sections de la matrice peuvent indiquer des clusters de séquences similaires. Ces clusters de similarité révèlent souvent des relations évolutives proches, comme des séquences ayant divergé récemment ou des séquences conservées partageant des fonctions similaires.\n",
    "     - Par exemple, dans le contexte de séquences d'ADN, de tels clusters peuvent représenter des gènes homologues dans des espèces différentes.\n",
    "   - **Identification des Séquences Uniques ou Divergentes** : Les cellules isolées en bleu foncé montrent des séquences qui ne se regroupent pas facilement avec d'autres, signalant potentiellement des séquences uniques ou divergentes dans l'ensemble. Ces séquences peuvent être interprétées comme ayant une fonction ou un rôle distinct, ou comme des séquences qui ont divergé plus tôt dans leur histoire évolutive.\n",
    "\n"
   ]
  },
  {
   "cell_type": "markdown",
   "metadata": {
    "id": "en9PXcKPk__U"
   },
   "source": [
    "3. Calcul de la qualité d'alignement :\n",
    "Après avoir obtenu les alignements, on peux ajouter une métrique de qualité comme le score d'alignement (nombre de matches par rapport aux mismatches et gaps).\n",
    "On pourrait calculer un score total pour évaluer la qualité de l'alignement."
   ]
  },
  {
   "cell_type": "code",
   "execution_count": 19,
   "metadata": {
    "id": "N14f_Hisk__U"
   },
   "outputs": [],
   "source": [
    "def calculate_alignment_score(aligned_sequences, match_score=1, mismatch_penalty=-1, gap_penalty=-2):\n",
    "    score = 0\n",
    "    for i in range(len(aligned_sequences[0])):  # Parcourir chaque colonne\n",
    "        column = [seq[i] for seq in aligned_sequences]\n",
    "        if len(set(column)) == 1:  # Tous les caractères sont identiques\n",
    "            score += match_score\n",
    "        elif '-' in column:  # Il y a un gap\n",
    "            score += gap_penalty\n",
    "        else:  # Mismatch\n",
    "            score += mismatch_penalty\n",
    "    return score\n",
    "\n",
    "# Calcul du score pour ClustalW et MUSCLE\n",
    "clustalw_score = calculate_alignment_score(aligned_clustalw)\n",
    "muscle_score = calculate_alignment_score(aligned_muscle)"
   ]
  },
  {
   "cell_type": "code",
   "execution_count": 20,
   "metadata": {
    "colab": {
     "base_uri": "https://localhost:8080/"
    },
    "id": "WrOHVuCnk__V",
    "outputId": "51bc25ad-e197-4030-91f2-b0a4d29db039"
   },
   "outputs": [
    {
     "name": "stdout",
     "output_type": "stream",
     "text": [
      "Score d'alignement ClustalW: -40\n",
      "Score d'alignement MUSCLE: -43\n"
     ]
    }
   ],
   "source": [
    "print(f\"Score d'alignement ClustalW: {clustalw_score}\")\n",
    "print(f\"Score d'alignement MUSCLE: {muscle_score}\")"
   ]
  },
  {
   "cell_type": "markdown",
   "metadata": {},
   "source": [
    "#### Interprétation des Scores pour ClustalW et MUSCLE\n",
    "\n",
    "- **Score Élevé (Positif)** : Un score élevé indique un alignement de bonne qualité, comportant de nombreux matches (positions identiques dans toutes les séquences). Cela suggère une forte similarité entre les séquences, avec peu de gaps ou mismatches.\n",
    "  \n",
    "- **Score Faible (Négatif)** : Un score faible ou négatif indique la présence de nombreux gaps ou mismatches, ce qui peut signifier que les séquences sont moins similaires ou que l’alignement a dû introduire des variations pour maximiser les correspondances.\n",
    "\n",
    "#### Comparaison des Scores entre ClustalW et MUSCLE\n",
    "\n",
    "En comparant les scores de ClustalW et MUSCLE, on peut évaluer quel algorithme a produit un alignement plus conservé :\n",
    "\n",
    "- **Score Plus Élevé pour ClustalW** : Si le score de ClustalW est supérieur, cela signifie que cet algorithme a aligné les séquences de manière plus conservatrice, avec davantage de matches et potentiellement moins de gaps.\n",
    "  \n",
    "- **Score Plus Élevé pour MUSCLE** : Si le score de MUSCLE est supérieur, cela indique que cet algorithme a optimisé l’alignement en minimisant les gaps et en équilibrant les mismatches, produisant ainsi un alignement plus adapté aux analyses globales.\n"
   ]
  },
  {
   "cell_type": "markdown",
   "metadata": {
    "id": "EEFKtk4Dk__V"
   },
   "source": [
    "4. Comparer les algorithmes (ClustalW vs MUSCLE) :\n",
    "On pourrait créer une bar chart pour comparer les scores d'alignement obtenus avec ClustalW et MUSCLE."
   ]
  },
  {
   "cell_type": "code",
   "execution_count": 21,
   "metadata": {
    "id": "w5E01ngYk__W"
   },
   "outputs": [],
   "source": [
    "def compare_alignment_scores(clustalw_score, muscle_score):\n",
    "    algorithms = ['ClustalW', 'MUSCLE']\n",
    "    scores = [clustalw_score, muscle_score]\n",
    "\n",
    "    plt.bar(algorithms, scores, color=['blue', 'green'])\n",
    "    plt.title(\"Comparaison des scores d'alignement\", fontsize=16)\n",
    "    plt.ylabel(\"Score d'alignement\")\n",
    "    plt.show()"
   ]
  },
  {
   "cell_type": "code",
   "execution_count": 22,
   "metadata": {
    "colab": {
     "base_uri": "https://localhost:8080/",
     "height": 454
    },
    "id": "jy8EHQr3k__W",
    "outputId": "6c42ae16-e6e9-4e2c-ec51-8ca1903ca61a"
   },
   "outputs": [
    {
     "data": {
      "image/png": "[encoded data removed]",
      "text/plain": [
       "<Figure size 640x480 with 1 Axes>"
      ]
     },
     "metadata": {},
     "output_type": "display_data"
    }
   ],
   "source": [
    "compare_alignment_scores(clustalw_score, muscle_score)"
   ]
  },
  {
   "cell_type": "code",
   "execution_count": 23,
   "metadata": {
    "colab": {
     "base_uri": "https://localhost:8080/"
    },
    "id": "gWMb3Q0Wk__X",
    "outputId": "fd668afb-ca25-40fe-f728-7162966c6002"
   },
   "outputs": [
    {
     "name": "stdout",
     "output_type": "stream",
     "text": [
      "Accès à la séquence 0: ATGCGTGGCTAA\n",
      "Accès à la séquence 1: ATCCGTAGCCTA\n",
      "Accès à la séquence 2: ATAGCCGTCCTAATTCG\n",
      "Accès à la séquence 3: ATGVFVHPPJ\n",
      "Accès à la séquence 4: ATGOUJJKNVCT\n",
      "ClustalW Execution Time: 0.00410914421081543 seconds\n"
     ]
    }
   ],
   "source": [
    "start_time = time.time()\n",
    "aligned_clustalw = clustalw_with_guide_tree(sequences)\n",
    "end_time = time.time()\n",
    "\n",
    "execution_time_clustalw = end_time - start_time\n",
    "print(\"ClustalW Execution Time:\", execution_time_clustalw, \"seconds\")"
   ]
  },
  {
   "cell_type": "code",
   "execution_count": 24,
   "metadata": {
    "colab": {
     "base_uri": "https://localhost:8080/"
    },
    "id": "umNPijbXk__X",
    "outputId": "c37c6bab-c68b-4075-f267-7d8066dd301a"
   },
   "outputs": [
    {
     "name": "stdout",
     "output_type": "stream",
     "text": [
      "MUSCLE Execution Time: 0.053156137466430664 seconds\n"
     ]
    }
   ],
   "source": [
    "start_time = time.time()\n",
    "aligned_muscle = muscle_with_iterations(sequences, iterations=3)\n",
    "end_time = time.time()\n",
    "\n",
    "execution_time_muscle = end_time - start_time\n",
    "print(\"MUSCLE Execution Time:\", execution_time_muscle, \"seconds\")"
   ]
  },
  {
   "cell_type": "code",
   "execution_count": 25,
   "metadata": {
    "colab": {
     "base_uri": "https://localhost:8080/"
    },
    "id": "JzsF8sLTk__Y",
    "outputId": "b33f867c-7721-41c7-fbea-57f4cc817189"
   },
   "outputs": [
    {
     "name": "stdout",
     "output_type": "stream",
     "text": [
      "Final ClustalW Alignment Score: -84\n",
      "Final MUSCLE Alignment Score: 154\n"
     ]
    }
   ],
   "source": [
    "def alignment_score(align1, align2, match_score=1, mismatch_penalty=-1, gap_penalty=-2):\n",
    "    score = 0\n",
    "    for a, b in zip(align1, align2):\n",
    "        if a == b:\n",
    "            score += match_score\n",
    "        elif a == '-' or b == '-':\n",
    "            score += gap_penalty\n",
    "        else:\n",
    "            score += mismatch_penalty\n",
    "    return score\n",
    "\n",
    "# Score the final alignment for ClustalW and MUSCLE\n",
    "clustalw_score = sum([alignment_score(aligned_clustalw[i], aligned_clustalw[i+1]) for i in range(len(aligned_clustalw)-1)])\n",
    "print(\"Final ClustalW Alignment Score:\", clustalw_score)\n",
    "\n",
    "muscle_score = sum([alignment_score(aligned_muscle[i], aligned_muscle[i+1]) for i in range(len(aligned_muscle)-1)])\n",
    "print(\"Final MUSCLE Alignment Score:\", muscle_score)\n"
   ]
  },
  {
   "cell_type": "markdown",
   "metadata": {},
   "source": [
    "#### Interprétation des Scores Totaux pour ClustalW et MUSCLE\n",
    "\n",
    "- **Score Total Élevé** : Un score total élevé indique un alignement globalement bon, où les paires de séquences présentent de nombreuses correspondances. Cela reflète une forte similarité entre les séquences dans l’alignement.\n",
    "  \n",
    "- **Score Total Faible ou Négatif** : Un score total faible ou négatif indique un alignement avec de nombreux gaps ou mismatches. Cela peut signifier que les séquences sont moins similaires ou que l'alignement a dû introduire des variations pour maximiser les correspondances.\n",
    "\n",
    "#### Comparaison des Scores entre ClustalW et MUSCLE\n",
    "\n",
    "En comparant les scores d'alignement total pour ClustalW (`clustalw_score`) et MUSCLE (`muscle_score`), on peut déterminer quel algorithme a produit l’alignement le plus cohérent :\n",
    "\n",
    "- **Score Plus Élevé pour ClustalW** : Si le score de ClustalW est plus élevé, cela indique que cet algorithme a produit un alignement avec davantage de matches et moins de gaps, suggérant une meilleure conservation des motifs de séquence.\n",
    "  \n",
    "- **Score Plus Élevé pour MUSCLE** : Si le score de MUSCLE est plus élevé, cela suggère que cet algorithme a créé un alignement plus optimisé en termes de similarité globale, ce qui peut être préféré pour une vue d’ensemble plus large sans compromis sur les motifs individuels.\n"
   ]
  },
  {
   "cell_type": "markdown",
   "metadata": {
    "id": "oBYwe_TYvM2i"
   },
   "source": [
    "Calculer le score pour chaque alignement"
   ]
  },
  {
   "cell_type": "code",
   "execution_count": 26,
   "metadata": {
    "colab": {
     "base_uri": "https://localhost:8080/"
    },
    "id": "raQj5GSlk__Z",
    "outputId": "aeb6b7ed-829a-4c9c-83f5-4b89f934fb84"
   },
   "outputs": [
    {
     "name": "stdout",
     "output_type": "stream",
     "text": [
      "Score d'alignement ClustalW entre la séquence 0 et 1 : -17\n",
      "Score d'alignement ClustalW entre la séquence 0 et 2 : -25\n",
      "Score d'alignement ClustalW entre la séquence 0 et 3 : -16\n",
      "Score d'alignement ClustalW entre la séquence 0 et 4 : -32\n",
      "Score d'alignement ClustalW entre la séquence 1 et 2 : -14\n",
      "Score d'alignement ClustalW entre la séquence 1 et 3 : -21\n",
      "Score d'alignement ClustalW entre la séquence 1 et 4 : -14\n",
      "Score d'alignement ClustalW entre la séquence 2 et 3 : -28\n",
      "Score d'alignement ClustalW entre la séquence 2 et 4 : -22\n",
      "Score d'alignement ClustalW entre la séquence 3 et 4 : -25\n"
     ]
    }
   ],
   "source": [
    "# Fonction pour calculer le score d'alignement entre deux séquences alignées\n",
    "def alignment_score(align1, align2, match_score=1, mismatch_penalty=-1, gap_penalty=-2):\n",
    "    score = 0\n",
    "    for a, b in zip(align1, align2):\n",
    "        if a == b:\n",
    "            score += match_score\n",
    "        elif a == '-' or b == '-':\n",
    "            score += gap_penalty\n",
    "        else:\n",
    "            score += mismatch_penalty\n",
    "    return score\n",
    "\n",
    "# Calculer le score pour chaque paire unique de séquences\n",
    "for i in range(len(aligned_clustalw)):\n",
    "    for j in range(i + 1, len(aligned_clustalw)):\n",
    "        score = alignment_score(aligned_clustalw[i], aligned_clustalw[j])\n",
    "        print(f\"Score d'alignement ClustalW entre la séquence {i} et {j} : {score}\")\n",
    "\n"
   ]
  },
  {
   "cell_type": "markdown",
   "metadata": {
    "id": "QmYexJ5XvcX4"
   },
   "source": [
    "Génèrer une carte thermique pour visualiser les différences entre deux alignements multiples produits par ClustalW et MUSCLE."
   ]
  },
  {
   "cell_type": "code",
   "execution_count": null,
   "metadata": {
    "colab": {
     "base_uri": "https://localhost:8080/",
     "height": 530
    },
    "id": "zRdKkCWDk__Z",
    "outputId": "e04458db-f5e4-4927-fa88-6c13bae0f4f1"
   },
   "outputs": [
    {
     "data": {
      "image/png": "[encoded data removed]",
      "text/plain": [
       "<Figure size 1000x600 with 2 Axes>"
      ]
     },
     "metadata": {},
     "output_type": "display_data"
    }
   ],
   "source": [
    "def compare_alignments_heatmap(aligned_clustalw, aligned_muscle):\n",
    "    differences = np.zeros((len(aligned_clustalw), len(aligned_clustalw[0])))\n",
    "\n",
    "    for i in range(len(aligned_clustalw)):\n",
    "        for j in range(len(aligned_clustalw[0])):\n",
    "            if aligned_clustalw[i][j] != aligned_muscle[i][j]:\n",
    "                differences[i][j] = 1  # 1 pour indiquer une différence\n",
    "\n",
    "    plt.figure(figsize=(10, 6))\n",
    "    sns.heatmap(differences, cmap=\"Reds\", cbar=True, xticklabels=False, yticklabels=False)\n",
    "    plt.title(\"Différences entre les alignements ClustalW et MUSCLE\")\n",
    "    plt.show()\n",
    "\n",
    "compare_alignments_heatmap(aligned_clustalw, aligned_muscle)\n"
   ]
  },
  {
   "cell_type": "markdown",
   "metadata": {},
   "source": [
    "#### Interprétation \n",
    "\n",
    "La carte thermique obtenue fournit une vue d’ensemble des positions où les alignements ClustalW et MUSCLE diffèrent. Elle permet une analyse détaillée des régions de similarité et de divergence entre les deux alignements, ce qui peut éclairer les choix d’algorithme et les décisions pour les analyses phylogénétiques et génétiques.\n",
    "\n",
    "1. **Identification des Régions de Conflit :**\n",
    "   - **Différences observables :** Les zones rouges représentent des positions où ClustalW et MUSCLE ont produit des alignements divergents. Ces positions, marquées par un `1` dans la matrice de différences, indiquent des substitutions, insertions ou suppressions interprétées différemment par chaque algorithme.\n",
    "   - **Modélisation mathématique des conflits :** Supposons que chaque alignement se compose de caractères alignés pour des séquences $S_1, S_2, \\ldots, S_n$\n",
    ". Pour chaque position \\( j \\) et séquence \\( i \\), la différence entre les alignements $ A_{clustalw}(i, j)$ et $ A_{muscle}(i, j) $ est définie par :\n",
    "     $$\n",
    "     D(i, j) = \n",
    "     \\begin{cases} \n",
    "       1 & \\text{si } A_{clustalw}(i, j) \\neq A_{muscle}(i, j) \\\\\n",
    "       0 & \\text{si } A_{clustalw}(i, j) = A_{muscle}(i, j)\n",
    "     \\end{cases}\n",
    "     $$\n",
    "   - Les conflits peuvent indiquer des difficultés d’alignement dues aux caractéristiques des séquences, telles que les motifs répétitifs ou les régions ambiguës qui perturbent les heuristiques d'alignement.\n",
    "\n",
    "2. **Conservation et Confiance de l’Alignement :**\n",
    "   - **Évaluation de la conservation :** Les zones blanches indiquent des positions où les deux algorithmes sont en accord, ce qui implique une conservation plus forte et donc une plus grande fiabilité pour ces positions. Mathématiquement, cela correspond aux positions où \\( D(i, j) = 0 \\), suggérant que chaque algorithme a attribué les mêmes caractères alignés aux séquences.\n",
    "   - **Indice de confiance global :** Un indice de conservation \\( C(j) \\) pour une position \\( j \\) dans les séquences peut être calculé comme :\n",
    "     $$\n",
    "     C(j) = 1 - \\frac{\\sum_{i=1}^{n} D(i, j)}{n}\n",
    "     $$\n",
    "     où \\( C(j) \\) proche de \\( 1 \\) indique une haute conservation. Ce type d'indice permet de mesurer mathématiquement la confiance dans les régions alignées, ce qui est essentiel dans les analyses bioinformatiques.\n",
    "\n",
    "3. **Applications aux Études Phylogénétiques et Comparatives :**\n",
    "   - **Impact sur les arbres phylogénétiques :** Les différences dans les alignements peuvent affecter la distance évolutive calculée entre les séquences, ce qui influence directement la topologie de l'arbre phylogénétique. Par exemple, des divergences dans les alignements des régions clés peuvent augmenter ou diminuer la distance entre deux séquences, modifiant ainsi leur position relative dans l'arbre.\n",
    "   - **Détection des régions conservées fonctionnelles :** En identifiant les positions où les alignements sont similaires (zones blanches), cette carte thermique aide à mettre en évidence les motifs conservés, qui sont souvent des indicateurs de structures ou fonctions biologiques importantes. Ces motifs peuvent être modélisés mathématiquement comme des sous-ensembles de positions \\( j \\) pour lesquelles \\( C(j) \\) est proche de \\( 1 \\).\n",
    "\n",
    "4. **Choix de l'Algorithme en Fonction des Différences :**\n",
    "   - **Conservation par algorithme :** Si les différences sont concentrées dans certaines régions, cela peut indiquer qu'un algorithme gère mieux certains motifs. Par exemple, ClustalW peut être plus conservateur et préserver les alignements dans les régions stables, tandis que MUSCLE, avec son approche itérative, peut produire des alignements plus flexibles dans des régions variables.\n",
    "   - **Analyse des biais d’alignement :** La fréquence des différences pour un algorithme donné peut indiquer des biais. Par exemple, en calculant la moyenne des valeurs \\( D(i, j) \\) pour chaque séquence \\( i \\), il est possible d'identifier les séquences qui présentent le plus de divergences d'alignement, ce qui aide à adapter le choix de l'algorithme selon les caractéristiques des séquences analysées.\n",
    "\n",
    "Cette fonction, en produisant une carte thermique, offre un outil visuel et quantitatif pour évaluer la cohérence entre deux alignements. Elle permet d’affiner le choix d'algorithme en fonction de la nature des séquences et de guider les analyses en fonction de l'objectif, qu'il s'agisse de créer des arbres phylogénétiques précis ou de détecter des motifs conservés. En utilisant des indices mathématiques de conservation et de divergence, cette approche fournit des bases solides pour l’interprétation des alignements multiples.\n"
   ]
  },
  {
   "cell_type": "code",
   "execution_count": 27,
   "metadata": {
    "colab": {
     "base_uri": "https://localhost:8080/"
    },
    "id": "u65353Qgk__a",
    "outputId": "0fdd127b-6076-4e7f-f75b-81cb5f98c647"
   },
   "outputs": [
    {
     "name": "stdout",
     "output_type": "stream",
     "text": [
      "Gaps dans ClustalW : 104, Positions des gaps : [0, 1, 2, 3, 4, 5, 6, 7, 8, 9, 10, 11, 12, 13, 14, 15, 16, 17, 18, 19]\n",
      "Gaps dans MUSCLE : 486, Positions des gaps : [0, 1, 2, 3, 4, 5, 6, 7, 8, 9, 10, 11, 12, 13, 14, 15, 16, 17, 18, 19, 20, 21, 22, 23, 24, 25, 26, 27, 28, 29, 30, 31, 32, 33, 34, 35, 36, 37, 38, 39, 40, 41, 42, 43, 44, 45, 46, 47, 48, 49, 50, 51, 52, 53, 54, 55, 56, 57, 58, 59, 60, 61, 62, 63, 64, 65, 66, 67, 68, 69, 70, 71, 72, 73, 74, 75, 76, 77, 78, 79]\n"
     ]
    }
   ],
   "source": [
    "def gap_statistics(aligned_sequences):\n",
    "    total_gaps = sum(seq.count('-') for seq in aligned_sequences)\n",
    "    gap_positions = [i for i in range(len(aligned_sequences[0])) if any(seq[i] == '-' for seq in aligned_sequences)]\n",
    "    return total_gaps, gap_positions\n",
    "\n",
    "gaps_clustalw, positions_clustalw = gap_statistics(aligned_clustalw)\n",
    "gaps_muscle, positions_muscle = gap_statistics(aligned_muscle)\n",
    "\n",
    "print(f\"Gaps dans ClustalW : {gaps_clustalw}, Positions des gaps : {positions_clustalw}\")\n",
    "print(f\"Gaps dans MUSCLE : {gaps_muscle}, Positions des gaps : {positions_muscle}\")"
   ]
  },
  {
   "cell_type": "markdown",
   "metadata": {},
   "source": [
    "### Fonction `gap_statistics` : Analyse des Gaps dans un Alignement\n",
    "La fonction `gap_statistics` calcule des statistiques sur les gaps dans un alignement multiple de séquences. Les gaps, souvent introduits pour maximiser les correspondances entre séquences, peuvent fournir des informations importantes sur la cohérence et la qualité de l'alignement.\n",
    "\n",
    "### Interprétation Générale des Statistiques de Gaps dans les Alignements Multiples\n",
    "\n",
    "Les gaps (`'-'`) sont essentiels pour maximiser les correspondances dans les alignements multiples, révélant des informations sur la cohérence et la qualité de l'alignement.\n",
    "\n",
    "#### Importance des Gaps\n",
    "\n",
    "1. **Quantité de Gaps et Variabilité :**\n",
    "   - Un nombre élevé de gaps suggère une grande variabilité entre les séquences, tandis qu'un faible nombre indique une similarité structurelle plus élevée.\n",
    "\n",
    "2. **Localisation des Gaps et Conservation :**\n",
    "   - Des gaps concentrés indiquent des régions de divergence, tandis que des zones sans gaps sont souvent hautement conservées, essentielles pour des fonctions partagées.\n",
    "\n",
    "3. **Comparaison des Algorithmes :**\n",
    "   - Différents algorithmes (ClustalW, MUSCLE) gèrent les gaps de manière unique. ClustalW est conservateur, préservant des motifs, alors que MUSCLE optimise globalement en réduisant les gaps.\n",
    "\n",
    "4. **Implications Biologiques :**\n",
    "   - Les gaps peuvent représenter des événements d'évolution (insertions, délétions) et aider à comprendre les relations phylogénétiques et fonctionnelles des séquences.\n",
    "\n",
    "5. **Confiance et Qualité de l'Alignement :**\n",
    "   - Un alignement avec des gaps bien placés renforce la confiance dans les zones alignées, tandis que des gaps aléatoires peuvent signaler un manque de qualité.\n",
    "\n",
    "En résumé, les gaps permettent d’évaluer la cohérence et la robustesse de l’alignement, offrant des indices sur l’évolution, la structure, et la fonction des séquences.\n"
   ]
  },
  {
   "cell_type": "code",
   "execution_count": 28,
   "metadata": {
    "colab": {
     "base_uri": "https://localhost:8080/"
    },
    "id": "JCqvBg2Xk__b",
    "outputId": "33de0751-9fed-483e-f0ef-3d63fcd40f30"
   },
   "outputs": [
    {
     "name": "stdout",
     "output_type": "stream",
     "text": [
      "Régions conservées dans ClustalW : []\n",
      "Régions conservées dans MUSCLE : [0, 1, 5, 6, 8, 10, 14, 19, 23, 25, 26, 28, 30, 34, 35, 36, 38, 39, 43, 45, 47, 48, 50, 53, 54, 55, 56, 58, 59, 60, 62, 63, 67, 68, 72, 73, 76, 77, 78]\n"
     ]
    }
   ],
   "source": [
    "def conserved_regions(aligned_sequences):\n",
    "    conserved = []\n",
    "    for i in range(len(aligned_sequences[0])):\n",
    "        column = [seq[i] for seq in aligned_sequences]\n",
    "        if len(set(column)) == 1:  # Si toutes les séquences ont le même caractère\n",
    "            conserved.append(i)\n",
    "    return conserved\n",
    "\n",
    "conserved_clustalw = conserved_regions(aligned_clustalw)\n",
    "conserved_muscle = conserved_regions(aligned_muscle)\n",
    "print(f\"Régions conservées dans ClustalW : {conserved_clustalw}\")\n",
    "print(f\"Régions conservées dans MUSCLE : {conserved_muscle}\")"
   ]
  },
  {
   "cell_type": "markdown",
   "metadata": {},
   "source": [
    "### Fonction `conserved_regions` : Identification des Régions Conservées\n",
    "\n",
    "#### Interprétation\n",
    "- **Régions Conservées :** Les positions conservées représentent des motifs partagés entre les séquences, souvent essentiels pour la fonction ou la structure des molécules.\n",
    "- **Comparaison des Algorithmes :** La différence de positions conservées entre ClustalW et MUSCLE peut révéler la sensibilité de chaque algorithme à préserver des motifs spécifiques, guidant le choix de l'algorithme selon l'application.\n",
    "\n",
    "Les régions conservées fournissent ainsi des informations critiques sur les similitudes fonctionnelles entre les séquences.\n",
    "\n",
    "- Si les résultats montrent que ClustalW conserve davantage de positions, cela pourrait être utile dans des études où la précision des motifs conservés est essentielle.\n",
    "- Si MUSCLE conserve moins de positions, cela pourrait indiquer un alignement plus flexible, utile pour des études globales où l’on recherche des similitudes générales sans priorité sur les motifs locaux.\n"
   ]
  },
  {
   "cell_type": "markdown",
   "metadata": {
    "id": "kGMBBFB5v62W"
   },
   "source": [
    "### Afficher côte à côte les alignements multiples produits par ClustalW et MUSCLE pour une comparaison visuelle ligne par ligne"
   ]
  },
  {
   "cell_type": "code",
   "execution_count": 29,
   "metadata": {
    "colab": {
     "base_uri": "https://localhost:8080/"
    },
    "id": "mWU6T5CWk__b",
    "outputId": "14647914-5bba-4a13-820e-7e0e4a510fbb"
   },
   "outputs": [
    {
     "name": "stdout",
     "output_type": "stream",
     "text": [
      "Alignements comparatifs :\n",
      "ClustalW : ATG-O-U-J-J-K-N-VCT-\n",
      "MUSCLE   : --ATG----C--G--T--G-----G----C-------T----A--------------------------------A----\n",
      "--------------------------------------------------\n",
      "ClustalW : -ATC--C-G-T--A-G-C--C-TA\n",
      "MUSCLE   : --AT---------------------------C-C------G---T------A--------------G--C-C------------TA-------------\n",
      "--------------------------------------------------\n",
      "ClustalW : --ATG------C---G-T-G--G--CT-A-A\n",
      "MUSCLE   : -------A-T-A-----G----C----C-----------------------G------------T-----C----------C-----T----A-----A------T---T---C-G\n",
      "--------------------------------------------------\n",
      "ClustalW : -----ATGV---F---V---H---P---P---J-------------\n",
      "MUSCLE   : ------------AT------GV-------------------F----V--H--P----P---J-----------------------------------------------------------------\n",
      "--------------------------------------------------\n",
      "ClustalW : -A-T--AG-C-C-G-T-C-C-T-A-A-T-T-C-G------------\n",
      "MUSCLE   : ----------------A-T--GO----U----J--------------------------------J---K----N----V----C----T-------------------------------------\n",
      "--------------------------------------------------\n"
     ]
    }
   ],
   "source": [
    "def display_comparative_alignments(aligned_clustalw, aligned_muscle):\n",
    "    print(\"Alignements comparatifs :\")\n",
    "    for i in range(len(aligned_clustalw)):\n",
    "        print(f\"ClustalW : {aligned_clustalw[i]}\")\n",
    "        print(f\"MUSCLE   : {aligned_muscle[i]}\")\n",
    "        print(\"-\" * 50)\n",
    "\n",
    "display_comparative_alignments(aligned_clustalw, aligned_muscle)"
   ]
  },
  {
   "cell_type": "markdown",
   "metadata": {
    "id": "rriAMZTvwWhF"
   },
   "source": [
    "# **Conclusion** \n",
    "\n",
    "Ce notebook a été réalisé dans le cadre d'un projet de bio-informatique sous la supervision de la professeure Nadia Tahiri. Ce sujet, choisi par notre groupe, nous a permis d'explorer en profondeur les alignements multiples de séquences en nous concentrant spécifiquement sur les algorithmes ClustalW et MUSCLE. Cette étude comparative a été enrichissante, car elle nous a permis de mieux comprendre non seulement les principes de l’alignement multiple mais également les stratégies distinctes de ClustalW et MUSCLE, ainsi que leurs applications respectives.\n",
    "\n",
    "#### Résumé des Résultats\n",
    "\n",
    "1. **Analyse des Gaps :**\n",
    "   - L'analyse des gaps a montré que ClustalW et MUSCLE appliquent des stratégies différentes pour insérer des gaps dans l'alignement. ClustalW tend à être plus conservateur, ajoutant plus de gaps pour aligner précisément des motifs partagés. MUSCLE, quant à lui, favorise un alignement global avec moins de gaps, cherchant un équilibre entre la conservation des motifs et la fluidité de l'alignement.\n",
    "   - Cette différence dans le traitement des gaps est cruciale pour des applications spécifiques. Par exemple, un alignement avec moins de gaps est souvent préféré pour des analyses phylogénétiques, car il minimise les distorsions dans les distances évolutives. À l'inverse, un alignement qui privilégie la conservation des motifs (même avec plus de gaps) peut être essentiel pour des études structurales ou fonctionnelles.\n",
    "\n",
    "2. **Identification des Régions Conservées :**\n",
    "   - La détection des régions conservées a permis de repérer des positions où toutes les séquences présentent le même caractère, un indicateur de motifs fonctionnels ou structurels importants. Les positions conservées partagées entre ClustalW et MUSCLE représentent des régions de haute similitude, essentielles pour des fonctions biologiques spécifiques, tandis que les différences observées reflètent les sensibilités uniques des algorithmes.\n",
    "   - Ces régions conservées, particulièrement celles présentes dans les deux alignements, peuvent être ciblées pour des études plus approfondies, telles que l’identification de sites actifs dans les protéines ou la recherche de motifs répétés dans les séquences d’ADN. Ces informations sont précieuses pour la conception de vaccins, la découverte de médicaments, et d’autres applications biomédicales.\n",
    "\n",
    "3. **Carte Thermique des Différences :**\n",
    "   - La carte thermique des différences d’alignement entre ClustalW et MUSCLE a fourni une visualisation claire des positions conflictuelles. Les zones rouges mettent en évidence les positions où les alignements divergent, tandis que les zones blanches montrent les régions de consensus entre les algorithmes. Cette visualisation permet d’identifier rapidement les zones stables et les régions plus difficiles à aligner, offrant une compréhension visuelle de la cohérence entre les deux méthodes.\n",
    "   - Cette comparaison visuelle peut aider à affiner les paramètres d’alignement ou à choisir l’algorithme le plus adapté pour des séquences spécifiques, optimisant ainsi l’interprétation des données.\n",
    "\n",
    "#### Conclusion et Implications pour la Bioinformatique\n",
    "\n",
    "Les observations issues de cette analyse soulignent l'importance de choisir l'algorithme d'alignement en fonction de l'objectif de l'étude :\n",
    "- **ClustalW** est idéal pour les analyses nécessitant une conservation rigoureuse des motifs, par exemple pour identifier des motifs évolutifs ou fonctionnels conservés. Sa propension à introduire des gaps pour maintenir ces motifs peut être bénéfique dans des études où la précision des motifs est cruciale.\n",
    "- **MUSCLE**, avec son approche plus itérative et fluide, est mieux adapté aux alignements globaux et aux analyses phylogénétiques où une vue d'ensemble sans altération excessive est souhaitée.\n",
    "\n",
    "En conclusion, ce projet a non seulement approfondi notre compréhension des alignements multiples mais a aussi renforcé nos compétences en bioinformatique. L'approche comparative entre ClustalW et MUSCLE, soutenue par des visualisations et des analyses statistiques, nous a permis de comprendre comment adapter les alignements multiples à différents objectifs de recherche. Nous remercions la professeure Nadia Tahiri pour son encadrement et pour l'opportunité d'apprendre et d'appliquer ces concepts fondamentaux en bioinformatique."
   ]
  }
 ],
 "metadata": {
  "colab": {
   "provenance": []
  },
  "kernelspec": {
   "display_name": "Python 3",
   "language": "python",
   "name": "python3"
  },
  "language_info": {
   "codemirror_mode": {
    "name": "ipython",
    "version": 3
   },
   "file_extension": ".py",
   "mimetype": "text/x-python",
   "name": "python",
   "nbconvert_exporter": "python",
   "pygments_lexer": "ipython3",
   "version": "3.12.2"
  }
 },
 "nbformat": 4,
 "nbformat_minor": 0
}
